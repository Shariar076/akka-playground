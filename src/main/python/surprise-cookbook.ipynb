{
 "cells": [
  {
   "cell_type": "code",
   "execution_count": 24,
   "metadata": {},
   "outputs": [],
   "source": [
    "from surprise import SVD\n",
    "from surprise import Dataset\n",
    "from surprise.model_selection import cross_validate\n",
    "from surprise import accuracy\n",
    "from surprise.model_selection import train_test_split"
   ]
  },
  {
   "cell_type": "code",
   "execution_count": 25,
   "metadata": {
    "tags": []
   },
   "outputs": [],
   "source": [
    "data = Dataset.load_builtin('ml-100k')\n",
    "# print(data.raw_ratings)"
   ]
  },
  {
   "cell_type": "code",
   "execution_count": 51,
   "metadata": {
    "tags": []
   },
   "outputs": [],
   "source": [
    "trainset, testset = train_test_split(data, test_size=.25)"
   ]
  },
  {
   "cell_type": "code",
   "execution_count": 116,
   "metadata": {},
   "outputs": [],
   "source": [
    "model = SVD()"
   ]
  },
  {
   "cell_type": "code",
   "execution_count": 117,
   "metadata": {
    "tags": []
   },
   "outputs": [],
   "source": [
    "# model.fit(data.build_full_trainset())\n",
    "model.fit(trainset)\n",
    "predictions = model.test(testset)\n",
    "\n",
    "# Then compute RMSE\n",
    "# accuracy.rmse(predictions)"
   ]
  },
  {
   "cell_type": "code",
   "execution_count": 120,
   "metadata": {
    "tags": []
   },
   "outputs": [
    {
     "output_type": "stream",
     "name": "stdout",
     "text": "9 ('38', '122', 1.0)\n"
    }
   ],
   "source": [
    "ind = 0\n",
    "for item in testset:\n",
    "    if float(item[2]) < 2:\n",
    "        print(ind,item)\n",
    "        break\n",
    "    ind +=1"
   ]
  },
  {
   "cell_type": "code",
   "execution_count": 121,
   "metadata": {
    "tags": []
   },
   "outputs": [
    {
     "output_type": "stream",
     "name": "stdout",
     "text": "user: 38         item: 122        r_ui = 1.00   est = 3.21   {'was_impossible': False}\nuser: 38         item: 122        r_ui = None   est = 3.21   {'was_impossible': False}\n"
    }
   ],
   "source": [
    "# print([x.est for x in predictions[:10]])\n",
    "# print([y[2] for y in testset[:10]])\n",
    "\n",
    "print(predictions[9])\n",
    "print(model.predict(uid= '38', iid= \"122\")) # 12914 ('145', '974', 1.0)\n",
    "\n"
   ]
  },
  {
   "cell_type": "code",
   "execution_count": 29,
   "metadata": {
    "tags": []
   },
   "outputs": [],
   "source": [
    "# model.qi.shape\n",
    "item_to_row_idx = model.trainset._raw2inner_id_items\n",
    "vec = model.qi[item_to_row_idx['1']]"
   ]
  },
  {
   "cell_type": "code",
   "execution_count": 30,
   "metadata": {
    "tags": []
   },
   "outputs": [],
   "source": [
    "import pandas as pd\n",
    "headers = [f\"col{i}\" for i in range(24)]\n",
    "items_df = pd.read_csv(\"/home/himel/.surprise_data/ml-100k/ml-100k/u.item\",sep='|', \n",
    "                        header=None, names=headers, engine='python')\n",
    "items_dict= items_df.to_dict('list')\n",
    "items_name_id_dict =  dict(zip(items_dict['col1'], items_dict['col0']))"
   ]
  },
  {
   "cell_type": "code",
   "execution_count": 31,
   "metadata": {},
   "outputs": [],
   "source": [
    "import numpy as np\n",
    "def cosine_distance(a, b):\n",
    "    return 1-np.dot(a,b)/(np.linalg.norm(a)*np.linalg.norm(b))\n",
    "\n",
    "def movie_vector(movie_name: str):\n",
    "    return model.qi[item_to_row_idx[str(items_name_id_dict[movie_name])]]"
   ]
  },
  {
   "cell_type": "code",
   "execution_count": 32,
   "metadata": {
    "tags": []
   },
   "outputs": [
    {
     "output_type": "stream",
     "name": "stdout",
     "text": "0.9012819448421256\n0.9980349499203598\n0.869338205064826\n"
    }
   ],
   "source": [
    "from sklearn.metrics.pairwise import cosine_similarity\n",
    "from scipy.spatial.distance import cosine\n",
    "\n",
    "ts_vec = movie_vector('Toy Story (1995)') # |0|0|0|1|1|1|0|0|0|0|0|0|0|0|0|0|0|0|0\n",
    "ge_vec = movie_vector('GoldenEye (1995)') # |0|1|1|0|0|0|0|0|0|0|0|0|0|0|0|0|1|0|0\n",
    "akt_vec = movie_vector('Aladdin and the King of Thieves (1996)') # |0|0|0|1|1|1|0|0|0|0|0|0|0|0|0|0|0|0|0\n",
    "wt_vec = movie_vector('Wrong Trousers, The (1993)') # |0|0|0|1|0|1|0|0|0|0|0|0|0|0|0|0|0|0|0\n",
    "gdo_vec = movie_vector('Grand Day Out, A (1992)') # |0|0|0|1|0|1|0|0|0|0|0|0|0|0|0|0|0|0|0\n",
    "bbda_vec = movie_vector('Beavis and Butt-head Do America (1996)') # |0|0|0|1|0|1|0|0|0|0|0|0|0|0|0|0|0|0|0\n",
    "\n",
    "\n",
    "# cosine_sim = cosine_similarity(ts_vec.reshape(1, -1), ge_vec.reshape(1, -1))[0][0]\n",
    "cosine_dist1 = cosine(ts_vec, ge_vec)\n",
    "cosine_dist2 = cosine(gdo_vec, bbda_vec)\n",
    "cosine_dist3 = cosine(gdo_vec, ge_vec)\n",
    "# print(cosine_sim)\n",
    "print(cosine_dist1)\n",
    "print(cosine_dist2)\n",
    "print(cosine_dist3)"
   ]
  },
  {
   "cell_type": "code",
   "execution_count": 34,
   "metadata": {
    "tags": []
   },
   "outputs": [
    {
     "output_type": "stream",
     "name": "stdout",
     "text": "Evaluating RMSE, MAE of algorithm SVD on 5 split(s).\n\n                  Fold 1  Fold 2  Fold 3  Fold 4  Fold 5  Mean    Std     \nRMSE (testset)    0.9338  0.9410  0.9351  0.9402  0.9374  0.9375  0.0028  \nMAE (testset)     0.7344  0.7408  0.7378  0.7408  0.7370  0.7382  0.0025  \nFit time          5.06    5.20    5.14    5.59    5.44    5.29    0.20    \nTest time         0.15    0.17    0.17    0.16    0.16    0.16    0.01    \n"
    }
   ],
   "source": [
    "res = cross_validate(model, data, measures=['RMSE', 'MAE'], cv=5, verbose=True)"
   ]
  },
  {
   "cell_type": "code",
   "execution_count": 35,
   "metadata": {
    "tags": []
   },
   "outputs": [
    {
     "output_type": "stream",
     "name": "stdout",
     "text": "Hello\n"
    },
    {
     "output_type": "error",
     "ename": "ModuleNotFoundError",
     "evalue": "No module named 'tensorflow'",
     "traceback": [
      "\u001b[0;31m---------------------------------------------------------------------------\u001b[0m",
      "\u001b[0;31mModuleNotFoundError\u001b[0m                       Traceback (most recent call last)",
      "\u001b[0;32m<ipython-input-35-232b1ec505ad>\u001b[0m in \u001b[0;36m<module>\u001b[0;34m\u001b[0m\n\u001b[1;32m      1\u001b[0m \u001b[0mprint\u001b[0m\u001b[0;34m(\u001b[0m\u001b[0;34m\"Hello\"\u001b[0m\u001b[0;34m)\u001b[0m\u001b[0;34m\u001b[0m\u001b[0;34m\u001b[0m\u001b[0m\n\u001b[0;32m----> 2\u001b[0;31m \u001b[0;32mimport\u001b[0m \u001b[0mtensorflow\u001b[0m \u001b[0;32mas\u001b[0m \u001b[0mtf\u001b[0m\u001b[0;34m\u001b[0m\u001b[0;34m\u001b[0m\u001b[0m\n\u001b[0m",
      "\u001b[0;31mModuleNotFoundError\u001b[0m: No module named 'tensorflow'"
     ]
    }
   ],
   "source": [
    "print(\"Hello\")\n",
    "import tensorflow as tf"
   ]
  }
 ],
 "metadata": {
  "kernelspec": {
   "display_name": "svd-kernel",
   "language": "python",
   "name": "svd-kernel"
  },
  "language_info": {
   "codemirror_mode": {
    "name": "ipython",
    "version": 3
   },
   "file_extension": ".py",
   "mimetype": "text/x-python",
   "name": "python",
   "nbconvert_exporter": "python",
   "pygments_lexer": "ipython3",
   "version": "3.6.9-final"
  }
 },
 "nbformat": 4,
 "nbformat_minor": 4
}